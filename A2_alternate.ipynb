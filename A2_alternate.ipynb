{
 "cells": [
  {
   "cell_type": "code",
   "execution_count": 47,
   "metadata": {},
   "outputs": [],
   "source": [
    "import gzip\n",
    "from collections import defaultdict\n",
    "import math\n",
    "import scipy.optimize\n",
    "from sklearn import svm\n",
    "import numpy as np\n",
    "import string\n",
    "import random\n",
    "import string\n",
    "from sklearn import linear_model\n",
    "from sklearn.model_selection import train_test_split\n",
    "from nltk.corpus import stopwords\n",
    "from nltk.stem.porter import *\n",
    "import pandas as np\n",
    "import matplotlib.pyplot as plt"
   ]
  },
  {
   "cell_type": "code",
   "execution_count": 16,
   "metadata": {},
   "outputs": [],
   "source": [
    "import warnings\n",
    "warnings.filterwarnings(\"ignore\")"
   ]
  },
  {
   "cell_type": "code",
   "execution_count": 17,
   "metadata": {},
   "outputs": [],
   "source": [
    "def readGz(path):\n",
    "    for l in gzip.open(path, 'rt'):\n",
    "        try:\n",
    "            yield eval(l)\n",
    "        except:\n",
    "            continue"
   ]
  },
  {
   "cell_type": "code",
   "execution_count": 18,
   "metadata": {},
   "outputs": [],
   "source": [
    "def readCSV(path):\n",
    "    f = gzip.open(path, 'rt')\n",
    "    f.readline()\n",
    "    for l in f:\n",
    "        u,b,r = l.strip().split(',')\n",
    "        r = int(r)\n",
    "        yield u,b,r"
   ]
  },
  {
   "cell_type": "code",
   "execution_count": 19,
   "metadata": {},
   "outputs": [],
   "source": [
    "dataset = []\n",
    "for d in readGz(\"renttherunway_final_data.json.gz\"):\n",
    "    dataset.append(d)\n"
   ]
  },
  {
   "cell_type": "code",
   "execution_count": 20,
   "metadata": {},
   "outputs": [
    {
     "data": {
      "text/plain": [
       "192462"
      ]
     },
     "execution_count": 20,
     "metadata": {},
     "output_type": "execute_result"
    }
   ],
   "source": [
    "len(dataset)"
   ]
  },
  {
   "cell_type": "code",
   "execution_count": 21,
   "metadata": {},
   "outputs": [],
   "source": [
    "def heightConversion(h):\n",
    "    ft, inch = h.split('\\' ')\n",
    "    ft = int(ft)\n",
    "    inch = int(inch.replace('\\\"', ''))\n",
    "    return ft * 12 + inch"
   ]
  },
  {
   "cell_type": "code",
   "execution_count": 22,
   "metadata": {},
   "outputs": [],
   "source": [
    "new_dataset = []\n",
    "punctuation = set(string.punctuation)\n",
    "\n",
    "for d in dataset:\n",
    "    feature_needed = ['weight', 'height', 'fit', 'size', 'body type', 'review_text', 'review_summary', 'rating']\n",
    "    keys = list(d.keys())\n",
    "    if all([i in keys for i in feature_needed]):\n",
    "        d['weight'] = int(d['weight'].replace(\"lbs\", \"\"))\n",
    "        d['height'] = heightConversion(d['height'])\n",
    "        new_dataset.append(d)"
   ]
  },
  {
   "cell_type": "code",
   "execution_count": 23,
   "metadata": {},
   "outputs": [
    {
     "data": {
      "text/plain": [
       "153441"
      ]
     },
     "execution_count": 23,
     "metadata": {},
     "output_type": "execute_result"
    }
   ],
   "source": [
    "len(new_dataset)"
   ]
  },
  {
   "cell_type": "code",
   "execution_count": 68,
   "metadata": {},
   "outputs": [],
   "source": [
    "y1 = [d['fit'] for d in new_dataset]"
   ]
  },
  {
   "cell_type": "code",
   "execution_count": 69,
   "metadata": {},
   "outputs": [
    {
     "data": {
      "text/plain": [
       "(107408, 23016, 23017)"
      ]
     },
     "execution_count": 69,
     "metadata": {},
     "output_type": "execute_result"
    }
   ],
   "source": [
    "dataTrain1, data_vt1, ytrain1, y_vt1 = train_test_split(new_dataset, y1, test_size=0.3, random_state=42)\n",
    "dataValid1, dataTest1, yvalid1, ytest1 = train_test_split(data_vt1, y_vt1, test_size=0.5, random_state=42)\n",
    "len(dataTrain1), len(dataValid1), len(dataTest1)"
   ]
  },
  {
   "cell_type": "code",
   "execution_count": 70,
   "metadata": {},
   "outputs": [],
   "source": [
    "Xtrain1 = [[1, d['weight'], d['height'], d['size']] for d in dataTrain1]\n",
    "Xvalid1 = [[1, d['weight'], d['height'], d['size']] for d in dataValid1]\n",
    "Xtest1 = [[1, d['weight'], d['height'], d['size']] for d in dataTest1]"
   ]
  },
  {
   "cell_type": "code",
   "execution_count": 27,
   "metadata": {},
   "outputs": [],
   "source": [
    "def accuracy(pred, y):\n",
    "    correct = pred == y\n",
    "    return sum(correct)/len(y)"
   ]
  },
  {
   "cell_type": "code",
   "execution_count": 79,
   "metadata": {},
   "outputs": [
    {
     "name": "stdout",
     "output_type": "stream",
     "text": [
      "C = 1e-05, accuracy is 0.7337504344803615.\n",
      "C = 0.0001, accuracy is 0.7332725060827251.\n",
      "C = 0.001, accuracy is 0.7330552659019812.\n",
      "C = 0.01, accuracy is 0.73309871393813.\n",
      "C = 0.1, accuracy is 0.7330552659019812.\n",
      "C = 1, accuracy is 0.7330552659019812.\n",
      "C = 10, accuracy is 0.7330552659019812.\n",
      "C = 100, accuracy is 0.7330552659019812.\n"
     ]
    }
   ],
   "source": [
    "# Baseline Model - using only weight, height and size\n",
    "cs = [0.00001, 0.0001, 0.001, 0.01, 0.1, 1, 10, 100]\n",
    "mods = {}\n",
    "accsVal = {}\n",
    "accsTrain = {}\n",
    "accura = []\n",
    "for i in cs:\n",
    "    baselineMod = linear_model.LogisticRegression(C=i)\n",
    "    baselineMod.fit(Xtrain1,ytrain1)\n",
    "    mods[i] = baselineMod\n",
    "    blPred = baselineMod.predict(Xvalid1)\n",
    "    blacc = accuracy(blPred, yvalid1)\n",
    "    accsVal[i] = blacc\n",
    "    blPredTr = baselineMod.predict(Xtrain1)\n",
    "    blaccTr = accuracy(blPredTr, ytrain1)\n",
    "    accsTrain[i] = blaccTr\n",
    "    print(\"C = {}, accuracy is {}.\".format(str(i), str(blacc)))"
   ]
  },
  {
   "cell_type": "code",
   "execution_count": 80,
   "metadata": {},
   "outputs": [
    {
     "data": {
      "text/plain": [
       "0.739105878263892"
      ]
     },
     "execution_count": 80,
     "metadata": {},
     "output_type": "execute_result"
    }
   ],
   "source": [
    "bestMod = mods[0.00001]\n",
    "predTest = bestMod.predict(Xtest1)\n",
    "accTest1 = accuracy(predTest, ytest1)\n",
    "accTest1"
   ]
  },
  {
   "cell_type": "code",
   "execution_count": 81,
   "metadata": {},
   "outputs": [
    {
     "data": {
      "image/png": "[encoded data removed]",
      "text/plain": [
       "<Figure size 432x288 with 1 Axes>"
      ]
     },
     "metadata": {
      "needs_background": "light"
     },
     "output_type": "display_data"
    }
   ],
   "source": [
    "plt.xticks([])\n",
    "plt.xlabel(r\"C\")\n",
    "plt.ylabel(r\"accuracy\")\n",
    "plt.title(r\"Baseline Validation Pipeline\")\n",
    "plt.xscale('log')\n",
    "plt.plot(cs, list(accsTrain.values()), color='k', linestyle='--', label='training accuracy')\n",
    "plt.plot(cs, list(accsVal.values()), color='grey',zorder=4,label=\"validation accuracy\")\n",
    "plt.plot([0.00001], [accTest1], linestyle='', marker='x', color='k', label=\"test accuracy\")\n",
    "plt.legend(loc='best')\n",
    "plt.show()"
   ]
  },
  {
   "cell_type": "code",
   "execution_count": null,
   "metadata": {},
   "outputs": [],
   "source": []
  },
  {
   "cell_type": "code",
   "execution_count": 30,
   "metadata": {},
   "outputs": [],
   "source": [
    "y = [d['fit'] for d in dataset]"
   ]
  },
  {
   "cell_type": "code",
   "execution_count": 31,
   "metadata": {},
   "outputs": [
    {
     "data": {
      "text/plain": [
       "(134723, 28869, 28870)"
      ]
     },
     "execution_count": 31,
     "metadata": {},
     "output_type": "execute_result"
    }
   ],
   "source": [
    "dataTrain, data_vt, ytrain, y_vt = train_test_split(dataset, y, test_size=0.3, random_state=42)\n",
    "dataValid, dataTest, yvalid, ytest = train_test_split(data_vt, y_vt, test_size=0.5, random_state=42)\n",
    "len(dataTrain), len(dataValid), len(dataTest)"
   ]
  },
  {
   "cell_type": "code",
   "execution_count": 32,
   "metadata": {},
   "outputs": [
    {
     "data": {
      "text/plain": [
       "32111"
      ]
     },
     "execution_count": 32,
     "metadata": {},
     "output_type": "execute_result"
    }
   ],
   "source": [
    "wordCount = defaultdict(int)\n",
    "punctuation = set(string.punctuation)\n",
    "stemmer = PorterStemmer()\n",
    "sw = stopwords.words(\"English\")\n",
    "for d in dataTrain:\n",
    "    r = ''.join([c for c in d['review_text'].lower() if not c in punctuation])\n",
    "    for w in r.split():\n",
    "        w = stemmer.stem(w)\n",
    "        wordCount[w] += 1\n",
    "\n",
    "len(wordCount)"
   ]
  },
  {
   "cell_type": "code",
   "execution_count": 33,
   "metadata": {},
   "outputs": [
    {
     "data": {
      "text/plain": [
       "31996"
      ]
     },
     "execution_count": 33,
     "metadata": {},
     "output_type": "execute_result"
    }
   ],
   "source": [
    "counts = [(wordCount[w],w) for w in wordCount if w not in sw]\n",
    "counts.sort()\n",
    "counts.reverse()\n",
    "len(counts)"
   ]
  },
  {
   "cell_type": "code",
   "execution_count": 34,
   "metadata": {},
   "outputs": [],
   "source": [
    "words = [x[1] for x in counts[:5000]]"
   ]
  },
  {
   "cell_type": "code",
   "execution_count": 35,
   "metadata": {},
   "outputs": [],
   "source": [
    "wordId = dict(zip(words, range(len(words))))\n",
    "wordSet = set(words)"
   ]
  },
  {
   "cell_type": "code",
   "execution_count": 36,
   "metadata": {},
   "outputs": [
    {
     "data": {
      "text/plain": [
       "(10, 2)"
      ]
     },
     "execution_count": 36,
     "metadata": {},
     "output_type": "execute_result"
    }
   ],
   "source": [
    "max_rating = float('-inf')\n",
    "min_rating = float('inf')\n",
    "for d in dataset:\n",
    "    max_rating = max(int(d['rating']), max_rating)\n",
    "    min_rating = min(int(d['rating']), min_rating)\n",
    "max_rating, min_rating"
   ]
  },
  {
   "cell_type": "code",
   "execution_count": 37,
   "metadata": {},
   "outputs": [],
   "source": [
    "def feature(d): \n",
    "    feat = [0]*len(words)\n",
    "    r = ''.join([c for c in d['review_text'].lower() if not c in punctuation])\n",
    "    for w in r.split():\n",
    "        w = stemmer.stem(w)\n",
    "        if w in words:\n",
    "            feat[wordId[w]] += 1\n",
    "    feat2 = [0]*(max_rating-min_rating+1)\n",
    "    feat2[max_rating-int(d['rating'])] = 1\n",
    "    return [1] + feat + feat2[1:]"
   ]
  },
  {
   "cell_type": "code",
   "execution_count": 38,
   "metadata": {},
   "outputs": [],
   "source": [
    "Xtrain = [feature(d) for d in dataTrain]"
   ]
  },
  {
   "cell_type": "code",
   "execution_count": 39,
   "metadata": {},
   "outputs": [],
   "source": [
    "Xvalid = [feature(d) for d in dataValid]"
   ]
  },
  {
   "cell_type": "code",
   "execution_count": 40,
   "metadata": {},
   "outputs": [],
   "source": [
    "Xtest= [feature(d) for d in dataTest]"
   ]
  },
  {
   "cell_type": "code",
   "execution_count": 43,
   "metadata": {},
   "outputs": [
    {
     "name": "stdout",
     "output_type": "stream",
     "text": [
      "C = 0.001, validation accuracy = 0.7895666632027434\n",
      "C = 0.01, validation accuracy = 0.8049118431535557\n",
      "C = 0.1, validation accuracy = 0.8048772039211611\n",
      "C = 1, validation accuracy = 0.8023831791887491\n",
      "C = 10, validation accuracy = 0.8013093629845163\n",
      "C = 100, validation accuracy = 0.8007204960338079\n",
      "C = 1000, validation accuracy = 0.8023485399563546\n"
     ]
    }
   ],
   "source": [
    "# Track the model which works best on the validation set\n",
    "bestModel = None\n",
    "bestVal = None\n",
    "bestC = None\n",
    "models = dict()\n",
    "accValid = dict()\n",
    "accTrain = dict()\n",
    "Cs = [0.001, 0.01, 0.1, 1, 10, 100, 1000]\n",
    "\n",
    "for c in Cs:\n",
    "    model = linear_model.LogisticRegression(C=c)\n",
    "    model.fit(Xtrain, ytrain)\n",
    "    models[c] = model\n",
    "    predictValid = model.predict(Xvalid)\n",
    "    accV = accuracy(predictValid, yvalid)\n",
    "    accValid[c] = accV\n",
    "    predictTrain = model.predict(Xtrain)\n",
    "    accT = accuracy(predictTrain, ytrain)\n",
    "    accTrain[c] = accT\n",
    "    print(\"C = \" + str(c) + \", validation accuracy = \" + str(accV))\n",
    "    if bestVal == None or accV > bestVal:\n",
    "        bestVal = accV\n",
    "        bestModel = model\n",
    "        bestC = c"
   ]
  },
  {
   "cell_type": "code",
   "execution_count": 60,
   "metadata": {},
   "outputs": [
    {
     "data": {
      "text/plain": [
       "0.7956702459300312"
      ]
     },
     "execution_count": 60,
     "metadata": {},
     "output_type": "execute_result"
    }
   ],
   "source": [
    "predictTest = bestModel.predict(Xtest)\n",
    "accTest = accuracy(predictTest, ytest)\n",
    "accTest"
   ]
  },
  {
   "cell_type": "code",
   "execution_count": 49,
   "metadata": {},
   "outputs": [
    {
     "data": {
      "text/plain": [
       "{0.001: 0.790540590693497,\n",
       " 0.01: 0.807998634234689,\n",
       " 0.1: 0.8138476726319931,\n",
       " 1: 0.814820038152357,\n",
       " 10: 0.8154954981703199,\n",
       " 100: 0.8149981814537978,\n",
       " 1000: 0.8145973590255562}"
      ]
     },
     "execution_count": 49,
     "metadata": {},
     "output_type": "execute_result"
    }
   ],
   "source": [
    "accTrain"
   ]
  },
  {
   "cell_type": "code",
   "execution_count": 64,
   "metadata": {},
   "outputs": [
    {
     "data": {
      "image/png": "[encoded data removed]",
      "text/plain": [
       "<Figure size 432x288 with 1 Axes>"
      ]
     },
     "metadata": {
      "needs_background": "light"
     },
     "output_type": "display_data"
    }
   ],
   "source": [
    "plt.xticks([])\n",
    "plt.xlabel(r\"C\")\n",
    "plt.ylabel(r\"accuracy\")\n",
    "plt.title(r\"Validation Pipeline\")\n",
    "plt.xscale('log')\n",
    "plt.plot(Cs, list(accTrain.values()), color='k', linestyle='--', label='training accuracy')\n",
    "plt.plot(Cs, list(accValid.values()), color='grey',zorder=4,label=\"validation accuracy\")\n",
    "plt.plot([bestC], [accTest], linestyle='', marker='x', color='k', label=\"test accuracy\")\n",
    "plt.legend(loc='best')\n",
    "plt.show()"
   ]
  }
 ],
 "metadata": {
  "kernelspec": {
   "display_name": "Python 3.9.7 ('base')",
   "language": "python",
   "name": "python3"
  },
  "language_info": {
   "codemirror_mode": {
    "name": "ipython",
    "version": 3
   },
   "file_extension": ".py",
   "mimetype": "text/x-python",
   "name": "python",
   "nbconvert_exporter": "python",
   "pygments_lexer": "ipython3",
   "version": "3.9.7"
  },
  "orig_nbformat": 4,
  "vscode": {
   "interpreter": {
    "hash": "40d3a090f54c6569ab1632332b64b2c03c39dcf918b08424e98f38b5ae0af88f"
   }
  }
 },
 "nbformat": 4,
 "nbformat_minor": 2
}

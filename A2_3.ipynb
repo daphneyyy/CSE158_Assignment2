{
 "cells": [
  {
   "cell_type": "code",
   "execution_count": 1,
   "metadata": {},
   "outputs": [],
   "source": [
    "import gzip\n",
    "from collections import defaultdict\n",
    "import math\n",
    "import scipy.optimize\n",
    "from sklearn import svm, linear_model, metrics\n",
    "import numpy as np\n",
    "import string\n",
    "import random\n",
    "import string\n",
    "from sklearn.model_selection import train_test_split\n",
    "from sklearn.tree import DecisionTreeClassifier\n",
    "from sklearn import tree\n",
    "from nltk.corpus import stopwords\n",
    "from nltk.stem.porter import *\n",
    "import pandas as pd\n",
    "import matplotlib.pyplot as plt\n"
   ]
  },
  {
   "cell_type": "code",
   "execution_count": 2,
   "metadata": {},
   "outputs": [],
   "source": [
    "import warnings\n",
    "warnings.filterwarnings(\"ignore\")"
   ]
  },
  {
   "cell_type": "code",
   "execution_count": 3,
   "metadata": {},
   "outputs": [],
   "source": [
    "def readGz(path):\n",
    "    for l in gzip.open(path, 'rt'):\n",
    "        try:\n",
    "            yield eval(l)\n",
    "        except:\n",
    "            continue"
   ]
  },
  {
   "cell_type": "code",
   "execution_count": 4,
   "metadata": {},
   "outputs": [],
   "source": [
    "def readCSV(path):\n",
    "    f = gzip.open(path, 'rt')\n",
    "    f.readline()\n",
    "    for l in f:\n",
    "        u,b,r = l.strip().split(',')\n",
    "        r = int(r)\n",
    "        yield u,b,r"
   ]
  },
  {
   "cell_type": "code",
   "execution_count": 5,
   "metadata": {},
   "outputs": [],
   "source": [
    "dataset = []\n",
    "for d in readGz(\"renttherunway_final_data.json.gz\"):\n",
    "    dataset.append(d)\n"
   ]
  },
  {
   "cell_type": "code",
   "execution_count": 6,
   "metadata": {},
   "outputs": [
    {
     "data": {
      "text/plain": [
       "192462"
      ]
     },
     "execution_count": 6,
     "metadata": {},
     "output_type": "execute_result"
    }
   ],
   "source": [
    "len(dataset)"
   ]
  },
  {
   "cell_type": "code",
   "execution_count": 7,
   "metadata": {},
   "outputs": [],
   "source": [
    "def heightConversion(h):\n",
    "    ft, inch = h.split('\\' ')\n",
    "    ft = int(ft)\n",
    "    inch = int(inch.replace('\\\"', ''))\n",
    "    return ft * 12 + inch"
   ]
  },
  {
   "cell_type": "code",
   "execution_count": 8,
   "metadata": {},
   "outputs": [],
   "source": [
    "new_dataset = []\n",
    "punctuation = set(string.punctuation)\n",
    "\n",
    "for d in dataset:\n",
    "    feature_needed = ['weight', 'height', 'fit', 'size', 'body type', 'review_text', 'review_summary', 'rating']\n",
    "    keys = list(d.keys())\n",
    "    if all([i in keys for i in feature_needed]):\n",
    "        d['weight'] = int(d['weight'].replace(\"lbs\", \"\"))\n",
    "        d['height'] = heightConversion(d['height'])\n",
    "        new_dataset.append(d)"
   ]
  },
  {
   "cell_type": "code",
   "execution_count": 9,
   "metadata": {},
   "outputs": [
    {
     "data": {
      "text/plain": [
       "153441"
      ]
     },
     "execution_count": 9,
     "metadata": {},
     "output_type": "execute_result"
    }
   ],
   "source": [
    "len(new_dataset)"
   ]
  },
  {
   "cell_type": "code",
   "execution_count": 10,
   "metadata": {},
   "outputs": [],
   "source": [
    "y1 = [d['fit'] for d in new_dataset]"
   ]
  },
  {
   "cell_type": "code",
   "execution_count": 12,
   "metadata": {},
   "outputs": [
    {
     "data": {
      "text/plain": [
       "fit      0.736035\n",
       "small    0.134019\n",
       "large    0.129946\n",
       "dtype: float64"
      ]
     },
     "execution_count": 12,
     "metadata": {},
     "output_type": "execute_result"
    }
   ],
   "source": [
    "y1 = [d['fit'] for d in new_dataset]\n",
    "pd.Series(y1).value_counts(normalize=True)"
   ]
  },
  {
   "cell_type": "code",
   "execution_count": 13,
   "metadata": {},
   "outputs": [
    {
     "data": {
      "text/plain": [
       "(107408, 23016, 23017)"
      ]
     },
     "execution_count": 13,
     "metadata": {},
     "output_type": "execute_result"
    }
   ],
   "source": [
    "dataTrain1, data_vt1, ytrain1, y_vt1 = train_test_split(new_dataset, y1, test_size=0.3, random_state=42)\n",
    "dataValid1, dataTest1, yvalid1, ytest1 = train_test_split(data_vt1, y_vt1, test_size=0.5, random_state=42)\n",
    "len(dataTrain1), len(dataValid1), len(dataTest1)"
   ]
  },
  {
   "cell_type": "code",
   "execution_count": 14,
   "metadata": {},
   "outputs": [],
   "source": [
    "Xtrain1 = [[1, d['weight'], d['height'], d['size']] for d in dataTrain1]\n",
    "Xvalid1 = [[1, d['weight'], d['height'], d['size']] for d in dataValid1]\n",
    "Xtest1 = [[1, d['weight'], d['height'], d['size']] for d in dataTest1]"
   ]
  },
  {
   "cell_type": "code",
   "execution_count": 16,
   "metadata": {},
   "outputs": [
    {
     "name": "stdout",
     "output_type": "stream",
     "text": [
      "Max_depth = 2, F_1 score is 0.6211854113684363.\n",
      "Max_depth = 3, F_1 score is 0.6211854113684363.\n",
      "Max_depth = 4, F_1 score is 0.6211854113684363.\n",
      "Max_depth = 5, F_1 score is 0.6211854113684363.\n",
      "Max_depth = 6, F_1 score is 0.6211797652217251.\n",
      "Max_depth = 7, F_1 score is 0.6212300680822704.\n",
      "Max_depth = 8, F_1 score is 0.6235943992050079.\n",
      "Max_depth = 9, F_1 score is 0.6225766046133574.\n",
      "Max_depth = 10, F_1 score is 0.6237080607084854.\n",
      "Max_depth = 11, F_1 score is 0.6244063132109235.\n",
      "Max_depth = 12, F_1 score is 0.6248373358521497.\n",
      "Max_depth = 13, F_1 score is 0.6254390746124412.\n",
      "Max_depth = 14, F_1 score is 0.6252848153909614.\n",
      "Max_depth = 15, F_1 score is 0.6262328467310826.\n",
      "Max_depth = 16, F_1 score is 0.6272025440971651.\n",
      "Max_depth = 17, F_1 score is 0.6274801751591385.\n",
      "Max_depth = 18, F_1 score is 0.6280711544603741.\n",
      "Max_depth = 19, F_1 score is 0.6277945877601003.\n",
      "Max_depth = 20, F_1 score is 0.6279067207496496.\n",
      "Max_depth = 21, F_1 score is 0.6279426564939684.\n",
      "Max_depth = 22, F_1 score is 0.6276553824537164.\n",
      "Max_depth = 23, F_1 score is 0.6279331232391817.\n",
      "Max_depth = 24, F_1 score is 0.6277780287840551.\n"
     ]
    }
   ],
   "source": [
    "# Baseline Model - using only weight, height and size\n",
    "mods = {}\n",
    "F1Valid = {}\n",
    "F1Train = {}\n",
    "F1scores = []\n",
    "bestMod = None\n",
    "bestVal = None\n",
    "bestI = None\n",
    "for i in range(2,25):\n",
    "    baselineMod = DecisionTreeClassifier(max_depth=i)\n",
    "    baselineMod.fit(Xtrain1,ytrain1)\n",
    "    mods[i] = baselineMod\n",
    "    blPred = baselineMod.predict(Xvalid1)\n",
    "    blF1 = metrics.f1_score(yvalid1, blPred, average='weighted',zero_division=0)\n",
    "    F1Valid[i] = blF1\n",
    "    blPredTr = baselineMod.predict(Xtrain1)\n",
    "    blF1Tr = metrics.f1_score(ytrain1, blPredTr, average='weighted',zero_division=0)\n",
    "    F1Train[i] = blF1Tr\n",
    "    F1scores.append(blF1)\n",
    "    print(\"Max_depth = {}, F_1 score is {}.\".format(str(i), str(blF1)))\n",
    "    if bestVal == None or blF1 > bestVal:\n",
    "        bestVal = blF1\n",
    "        bestMod = baselineMod\n",
    "        bestI = i"
   ]
  },
  {
   "cell_type": "code",
   "execution_count": 17,
   "metadata": {},
   "outputs": [
    {
     "data": {
      "text/plain": [
       "(18, 0.6280711544603741)"
      ]
     },
     "execution_count": 17,
     "metadata": {},
     "output_type": "execute_result"
    }
   ],
   "source": [
    "bestI, bestVal"
   ]
  },
  {
   "cell_type": "code",
   "execution_count": 18,
   "metadata": {},
   "outputs": [
    {
     "data": {
      "text/plain": [
       "0.6369932517379904"
      ]
     },
     "execution_count": 18,
     "metadata": {},
     "output_type": "execute_result"
    }
   ],
   "source": [
    "predTest = bestMod.predict(Xtest1)\n",
    "f1Test1 = metrics.f1_score(ytest1, predTest, average='weighted',zero_division=0)\n",
    "f1Test1"
   ]
  },
  {
   "cell_type": "code",
   "execution_count": 19,
   "metadata": {},
   "outputs": [
    {
     "data": {
      "image/png": "[encoded data removed]",
      "text/plain": [
       "<Figure size 432x288 with 1 Axes>"
      ]
     },
     "metadata": {
      "needs_background": "light"
     },
     "output_type": "display_data"
    }
   ],
   "source": [
    "plt.xticks([])\n",
    "plt.xlabel(r\"max_depth\")\n",
    "plt.ylabel(r\"f_1 score\")\n",
    "plt.title(r\"Baseline Validation Pipeline\")\n",
    "plt.xscale('linear')\n",
    "plt.plot(range(2,25), list(F1Train.values()), color='k', linestyle='--', label='training f_1 score')\n",
    "plt.plot(range(2,25), list(F1Valid.values()), color='grey',zorder=4,label=\"validation f_1 score\")\n",
    "plt.plot([bestI], [f1Test1], linestyle='', marker='x', color='k', label=\"test f_1 score\")\n",
    "plt.legend(loc='best')\n",
    "plt.show()"
   ]
  },
  {
   "cell_type": "code",
   "execution_count": 22,
   "metadata": {},
   "outputs": [
    {
     "data": {
      "image/png": "[encoded data removed]",
      "text/plain": [
       "<Figure size 720x720 with 2 Axes>"
      ]
     },
     "metadata": {
      "needs_background": "light"
     },
     "output_type": "display_data"
    }
   ],
   "source": [
    "fig, ax = plt.subplots(figsize=(10, 10))\n",
    "metrics.plot_confusion_matrix(bestMod, Xtest1, ytest1, ax=ax)\n",
    "plt.show()"
   ]
  },
  {
   "cell_type": "code",
   "execution_count": 94,
   "metadata": {},
   "outputs": [
    {
     "data": {
      "text/plain": [
       "31232"
      ]
     },
     "execution_count": 94,
     "metadata": {},
     "output_type": "execute_result"
    }
   ],
   "source": [
    "wordCount2 = defaultdict(int)\n",
    "punctuation2 = set(string.punctuation)\n",
    "stemmer2 = PorterStemmer()\n",
    "sw2 = stopwords.words(\"English\")\n",
    "for d in dataTrain1:\n",
    "    r = ''.join([c for c in d['review_text'].lower() if not c in punctuation2])\n",
    "    s = ''.join([c for c in d['review_summary'].lower() if not c in punctuation2])\n",
    "    for w in r.split() + s.split():\n",
    "        w = stemmer2.stem(w)\n",
    "        wordCount2[w] += 1\n",
    "\n",
    "len(wordCount2)"
   ]
  },
  {
   "cell_type": "code",
   "execution_count": 95,
   "metadata": {},
   "outputs": [
    {
     "data": {
      "text/plain": [
       "31117"
      ]
     },
     "execution_count": 95,
     "metadata": {},
     "output_type": "execute_result"
    }
   ],
   "source": [
    "counts2 = [(wordCount2[w],w) for w in wordCount2 if w not in sw2]\n",
    "counts2.sort()\n",
    "counts2.reverse()\n",
    "len(counts2)"
   ]
  },
  {
   "cell_type": "code",
   "execution_count": 65,
   "metadata": {},
   "outputs": [],
   "source": [
    "words2 = [x[1] for x in counts2[:4000]]"
   ]
  },
  {
   "cell_type": "code",
   "execution_count": 66,
   "metadata": {},
   "outputs": [],
   "source": [
    "wordId2 = dict(zip(words2, range(len(words2))))\n",
    "wordSet2 = set(words2)"
   ]
  },
  {
   "cell_type": "code",
   "execution_count": 71,
   "metadata": {},
   "outputs": [],
   "source": [
    "def feature3(d): \n",
    "    feat = [0]*len(words2)\n",
    "    r = ''.join([c for c in d['review_text'].lower() if not c in punctuation2])\n",
    "    s = ''.join([c for c in d['review_summary'].lower() if not c in punctuation2])\n",
    "    for w in r.split() + s.split():\n",
    "        w = stemmer2.stem(w)\n",
    "        if w in words2:\n",
    "            feat[wordId2[w]] += 1\n",
    "    return [1] + [d['weight'], d['height'], d['size']] + feat"
   ]
  },
  {
   "cell_type": "code",
   "execution_count": 72,
   "metadata": {},
   "outputs": [],
   "source": [
    "Xtrain3 = [feature3(d) for d in dataTrain1]"
   ]
  },
  {
   "cell_type": "code",
   "execution_count": 73,
   "metadata": {},
   "outputs": [],
   "source": [
    "Xvalid3 = [feature3(d) for d in dataValid1]"
   ]
  },
  {
   "cell_type": "code",
   "execution_count": 74,
   "metadata": {},
   "outputs": [],
   "source": [
    "Xtest3 = [feature3(d) for d in dataTest1]"
   ]
  },
  {
   "cell_type": "code",
   "execution_count": 112,
   "metadata": {},
   "outputs": [
    {
     "name": "stdout",
     "output_type": "stream",
     "text": [
      "Max_depth = 2, validation F_1 score = 0.711063843720865\n",
      "Max_depth = 3, validation F_1 score = 0.7307740995792468\n",
      "Max_depth = 4, validation F_1 score = 0.7208910737256707\n",
      "Max_depth = 5, validation F_1 score = 0.7382379875172989\n",
      "Max_depth = 6, validation F_1 score = 0.7591255255513193\n",
      "Max_depth = 7, validation F_1 score = 0.7582206042451941\n",
      "Max_depth = 8, validation F_1 score = 0.7575262790847063\n",
      "Max_depth = 9, validation F_1 score = 0.7570216721771734\n",
      "Max_depth = 10, validation F_1 score = 0.7611609645359514\n",
      "Max_depth = 11, validation F_1 score = 0.7637408108238847\n",
      "Max_depth = 12, validation F_1 score = 0.7644663303710587\n",
      "Max_depth = 13, validation F_1 score = 0.7660669817506426\n",
      "Max_depth = 14, validation F_1 score = 0.7646109229364622\n",
      "Max_depth = 15, validation F_1 score = 0.7639681365517051\n",
      "Max_depth = 16, validation F_1 score = 0.7624684820956116\n",
      "Max_depth = 17, validation F_1 score = 0.7624728122275578\n",
      "Max_depth = 18, validation F_1 score = 0.7609507610104935\n",
      "Max_depth = 19, validation F_1 score = 0.7590773483428225\n",
      "Max_depth = 20, validation F_1 score = 0.7579080767987592\n",
      "Max_depth = 21, validation F_1 score = 0.7567303494510311\n",
      "Max_depth = 22, validation F_1 score = 0.7574473301147666\n",
      "Max_depth = 23, validation F_1 score = 0.7569976733637056\n",
      "Max_depth = 24, validation F_1 score = 0.7534999891910297\n"
     ]
    }
   ],
   "source": [
    "# Track the model which works best on the validation set\n",
    "bestModel = None\n",
    "bestValue = None\n",
    "bestC = None\n",
    "models = dict()\n",
    "f1Valid = dict()\n",
    "f1Train = dict()\n",
    "\n",
    "for c in range(2,25):\n",
    "    model = DecisionTreeClassifier(max_depth=c)\n",
    "    model.fit(Xtrain3, ytrain1)\n",
    "    models[c] = model\n",
    "    predictValid = model.predict(Xvalid3)\n",
    "    f1V = metrics.f1_score(yvalid1, predictValid, average='weighted', zero_division=0)\n",
    "    f1Valid[c] = f1V\n",
    "    predictTrain = model.predict(Xtrain3)\n",
    "    f1T = metrics.f1_score(ytrain1, predictTrain, average='weighted', zero_division=0)\n",
    "    f1Train[c] = f1T\n",
    "    print(\"Max_depth = \" + str(c) + \", validation F_1 score = \" + str(f1V))\n",
    "    if bestValue == None or f1V > bestValue:\n",
    "        bestValue = f1V\n",
    "        bestModel = model\n",
    "        bestC = c"
   ]
  },
  {
   "cell_type": "code",
   "execution_count": 113,
   "metadata": {},
   "outputs": [
    {
     "data": {
      "text/plain": [
       "(13, 0.7660669817506426)"
      ]
     },
     "execution_count": 113,
     "metadata": {},
     "output_type": "execute_result"
    }
   ],
   "source": [
    "bestC, bestValue"
   ]
  },
  {
   "cell_type": "code",
   "execution_count": 114,
   "metadata": {},
   "outputs": [
    {
     "data": {
      "text/plain": [
       "0.7707001748260572"
      ]
     },
     "execution_count": 114,
     "metadata": {},
     "output_type": "execute_result"
    }
   ],
   "source": [
    "predictTest = bestModel.predict(Xtest3)\n",
    "f1Test = metrics.f1_score(ytest1, predictTest, average='weighted',zero_division=0)\n",
    "f1Test"
   ]
  },
  {
   "cell_type": "code",
   "execution_count": 115,
   "metadata": {},
   "outputs": [
    {
     "data": {
      "image/png": "[encoded data removed]",
      "text/plain": [
       "<Figure size 432x288 with 1 Axes>"
      ]
     },
     "metadata": {
      "needs_background": "light"
     },
     "output_type": "display_data"
    }
   ],
   "source": [
    "plt.xticks([])\n",
    "plt.xlabel(r\"max_depth\")\n",
    "plt.ylabel(r\"f_1 score\")\n",
    "plt.title(r\"Validation Pipeline\")\n",
    "plt.xscale('linear')\n",
    "plt.plot(range(2,25), list(f1Train.values()), color='k', linestyle='--', label='training f_1 score')\n",
    "plt.plot(range(2,25), list(f1Valid.values()), color='grey',zorder=4,label=\"validation f_1 score\")\n",
    "plt.plot([bestC], [f1Test], linestyle='', marker='x', color='k', label=\"test f_1 score\")\n",
    "plt.legend(loc='best')\n",
    "plt.show()"
   ]
  },
  {
   "cell_type": "code",
   "execution_count": 116,
   "metadata": {},
   "outputs": [
    {
     "data": {
      "image/png": "[encoded data removed]",
      "text/plain": [
       "<Figure size 720x720 with 2 Axes>"
      ]
     },
     "metadata": {
      "needs_background": "light"
     },
     "output_type": "display_data"
    }
   ],
   "source": [
    "fig, ax = plt.subplots(figsize=(10, 10))\n",
    "metrics.plot_confusion_matrix(bestModel, Xtest3, ytest1, ax=ax)\n",
    "plt.show()"
   ]
  }
 ],
 "metadata": {
  "kernelspec": {
   "display_name": "Python 3.9.7 ('base')",
   "language": "python",
   "name": "python3"
  },
  "language_info": {
   "codemirror_mode": {
    "name": "ipython",
    "version": 3
   },
   "file_extension": ".py",
   "mimetype": "text/x-python",
   "name": "python",
   "nbconvert_exporter": "python",
   "pygments_lexer": "ipython3",
   "version": "3.9.7"
  },
  "orig_nbformat": 4,
  "vscode": {
   "interpreter": {
    "hash": "40d3a090f54c6569ab1632332b64b2c03c39dcf918b08424e98f38b5ae0af88f"
   }
  }
 },
 "nbformat": 4,
 "nbformat_minor": 2
}

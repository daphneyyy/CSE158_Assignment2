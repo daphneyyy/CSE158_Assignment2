{
 "cells": [
  {
   "cell_type": "code",
   "execution_count": 68,
   "metadata": {},
   "outputs": [],
   "source": [
    "import gzip\n",
    "from collections import defaultdict\n",
    "import math\n",
    "import scipy.optimize\n",
    "from sklearn import svm, linear_model, metrics\n",
    "import numpy as np\n",
    "import string\n",
    "import random\n",
    "import string\n",
    "from sklearn.model_selection import train_test_split\n",
    "from sklearn.tree import DecisionTreeClassifier\n",
    "from sklearn import tree\n",
    "from nltk.corpus import stopwords\n",
    "from nltk.stem.porter import *\n",
    "import pandas as pd\n",
    "import matplotlib.pyplot as plt\n"
   ]
  },
  {
   "cell_type": "code",
   "execution_count": 2,
   "metadata": {},
   "outputs": [],
   "source": [
    "import warnings\n",
    "warnings.filterwarnings(\"ignore\")"
   ]
  },
  {
   "cell_type": "code",
   "execution_count": 3,
   "metadata": {},
   "outputs": [],
   "source": [
    "def readGz(path):\n",
    "    for l in gzip.open(path, 'rt'):\n",
    "        try:\n",
    "            yield eval(l)\n",
    "        except:\n",
    "            continue"
   ]
  },
  {
   "cell_type": "code",
   "execution_count": 4,
   "metadata": {},
   "outputs": [],
   "source": [
    "def readCSV(path):\n",
    "    f = gzip.open(path, 'rt')\n",
    "    f.readline()\n",
    "    for l in f:\n",
    "        u,b,r = l.strip().split(',')\n",
    "        r = int(r)\n",
    "        yield u,b,r"
   ]
  },
  {
   "cell_type": "code",
   "execution_count": 5,
   "metadata": {},
   "outputs": [],
   "source": [
    "dataset = []\n",
    "for d in readGz(\"renttherunway_final_data.json.gz\"):\n",
    "    dataset.append(d)\n"
   ]
  },
  {
   "cell_type": "code",
   "execution_count": 51,
   "metadata": {},
   "outputs": [
    {
     "data": {
      "text/plain": [
       "192462"
      ]
     },
     "execution_count": 51,
     "metadata": {},
     "output_type": "execute_result"
    }
   ],
   "source": [
    "len(dataset)"
   ]
  },
  {
   "cell_type": "code",
   "execution_count": 7,
   "metadata": {},
   "outputs": [],
   "source": [
    "def heightConversion(h):\n",
    "    ft, inch = h.split('\\' ')\n",
    "    ft = int(ft)\n",
    "    inch = int(inch.replace('\\\"', ''))\n",
    "    return ft * 12 + inch"
   ]
  },
  {
   "cell_type": "code",
   "execution_count": 8,
   "metadata": {},
   "outputs": [],
   "source": [
    "new_dataset = []\n",
    "punctuation = set(string.punctuation)\n",
    "\n",
    "for d in dataset:\n",
    "    feature_needed = ['weight', 'height', 'fit', 'size', 'body type', 'review_text', 'review_summary', 'rating']\n",
    "    keys = list(d.keys())\n",
    "    if all([i in keys for i in feature_needed]):\n",
    "        d['weight'] = int(d['weight'].replace(\"lbs\", \"\"))\n",
    "        d['height'] = heightConversion(d['height'])\n",
    "        new_dataset.append(d)"
   ]
  },
  {
   "cell_type": "code",
   "execution_count": 9,
   "metadata": {},
   "outputs": [
    {
     "data": {
      "text/plain": [
       "153441"
      ]
     },
     "execution_count": 9,
     "metadata": {},
     "output_type": "execute_result"
    }
   ],
   "source": [
    "len(new_dataset)"
   ]
  },
  {
   "cell_type": "code",
   "execution_count": 10,
   "metadata": {},
   "outputs": [],
   "source": [
    "y1 = [d['fit'] for d in new_dataset]"
   ]
  },
  {
   "cell_type": "code",
   "execution_count": 11,
   "metadata": {},
   "outputs": [
    {
     "data": {
      "text/plain": [
       "(107408, 23016, 23017)"
      ]
     },
     "execution_count": 11,
     "metadata": {},
     "output_type": "execute_result"
    }
   ],
   "source": [
    "dataTrain1, data_vt1, ytrain1, y_vt1 = train_test_split(new_dataset, y1, test_size=0.3, random_state=42)\n",
    "dataValid1, dataTest1, yvalid1, ytest1 = train_test_split(data_vt1, y_vt1, test_size=0.5, random_state=42)\n",
    "len(dataTrain1), len(dataValid1), len(dataTest1)"
   ]
  },
  {
   "cell_type": "code",
   "execution_count": 12,
   "metadata": {},
   "outputs": [],
   "source": [
    "Xtrain1 = [[1, d['weight'], d['height'], d['size']] for d in dataTrain1]\n",
    "Xvalid1 = [[1, d['weight'], d['height'], d['size']] for d in dataValid1]\n",
    "Xtest1 = [[1, d['weight'], d['height'], d['size']] for d in dataTest1]"
   ]
  },
  {
   "cell_type": "code",
   "execution_count": 13,
   "metadata": {},
   "outputs": [
    {
     "name": "stdout",
     "output_type": "stream",
     "text": [
      "C = 2, F_1 score is 0.6211854113684363.\n",
      "C = 3, F_1 score is 0.6211854113684363.\n",
      "C = 4, F_1 score is 0.6211854113684363.\n",
      "C = 5, F_1 score is 0.6211854113684363.\n",
      "C = 6, F_1 score is 0.6211797652217251.\n",
      "C = 7, F_1 score is 0.6212300680822704.\n",
      "C = 8, F_1 score is 0.6235943992050079.\n",
      "C = 9, F_1 score is 0.6225982884482651.\n",
      "C = 10, F_1 score is 0.6237080607084854.\n",
      "C = 11, F_1 score is 0.6244724376952148.\n",
      "C = 12, F_1 score is 0.624936117100185.\n",
      "C = 13, F_1 score is 0.6253190826958486.\n",
      "C = 14, F_1 score is 0.6253387606859218.\n",
      "C = 15, F_1 score is 0.6262477492677637.\n",
      "C = 16, F_1 score is 0.6271113544593223.\n",
      "C = 17, F_1 score is 0.6274867388206713.\n",
      "C = 18, F_1 score is 0.6280038012997389.\n",
      "C = 19, F_1 score is 0.6277348176005503.\n",
      "C = 20, F_1 score is 0.6279159894422742.\n",
      "C = 21, F_1 score is 0.6277859271943412.\n",
      "C = 22, F_1 score is 0.6277754193678552.\n",
      "C = 23, F_1 score is 0.6278222637031495.\n",
      "C = 24, F_1 score is 0.6279198168021551.\n"
     ]
    }
   ],
   "source": [
    "# Baseline Model - using only weight, height and size\n",
    "mods = {}\n",
    "F1Valid = {}\n",
    "F1Train = {}\n",
    "F1scores = []\n",
    "bestMod = None\n",
    "bestVal = None\n",
    "bestI = None\n",
    "for i in range(2,25):\n",
    "    baselineMod = DecisionTreeClassifier(max_depth=i)\n",
    "    baselineMod.fit(Xtrain1,ytrain1)\n",
    "    mods[i] = baselineMod\n",
    "    blPred = baselineMod.predict(Xvalid1)\n",
    "    blF1 = metrics.f1_score(yvalid1, blPred, average='weighted',zero_division=0)\n",
    "    F1Valid[i] = blF1\n",
    "    blPredTr = baselineMod.predict(Xtrain1)\n",
    "    blF1Tr = metrics.f1_score(ytrain1, blPredTr, average='weighted',zero_division=0)\n",
    "    F1Train[i] = blF1Tr\n",
    "    F1scores.append(blF1)\n",
    "    print(\"C = {}, F_1 score is {}.\".format(str(i), str(blF1)))\n",
    "    if bestVal == None or blF1 > bestVal:\n",
    "        bestVal = blF1\n",
    "        bestMod = baselineMod\n",
    "        bestI = i"
   ]
  },
  {
   "cell_type": "code",
   "execution_count": 63,
   "metadata": {},
   "outputs": [
    {
     "data": {
      "text/plain": [
       "(18, 0.6280038012997389)"
      ]
     },
     "execution_count": 63,
     "metadata": {},
     "output_type": "execute_result"
    }
   ],
   "source": [
    "bestI, bestVal"
   ]
  },
  {
   "cell_type": "code",
   "execution_count": 65,
   "metadata": {},
   "outputs": [
    {
     "data": {
      "text/plain": [
       "0.6371671890654981"
      ]
     },
     "execution_count": 65,
     "metadata": {},
     "output_type": "execute_result"
    }
   ],
   "source": [
    "predTest = bestMod.predict(Xtest1)\n",
    "f1Test1 = metrics.f1_score(ytest1, predTest, average='weighted',zero_division=0)\n",
    "f1Test1"
   ]
  },
  {
   "cell_type": "code",
   "execution_count": 72,
   "metadata": {},
   "outputs": [
    {
     "data": {
      "image/png": "[encoded data removed]",
      "text/plain": [
       "<Figure size 432x288 with 1 Axes>"
      ]
     },
     "metadata": {
      "needs_background": "light"
     },
     "output_type": "display_data"
    }
   ],
   "source": [
    "plt.xticks([])\n",
    "plt.xlabel(r\"max_depth\")\n",
    "plt.ylabel(r\"f_1 score\")\n",
    "plt.title(r\"Baseline Validation Pipeline\")\n",
    "plt.xscale('linear')\n",
    "plt.plot(range(2,25), list(F1Train.values()), color='k', linestyle='--', label='training f_1 score')\n",
    "plt.plot(range(2,25), list(F1Valid.values()), color='grey',zorder=4,label=\"validation f_1 score\")\n",
    "plt.plot([bestI], [f1Test1], linestyle='', marker='x', color='k', label=\"test f_1 score\")\n",
    "plt.legend(loc='best')\n",
    "plt.show()"
   ]
  },
  {
   "cell_type": "code",
   "execution_count": 18,
   "metadata": {},
   "outputs": [
    {
     "data": {
      "text/plain": [
       "28832"
      ]
     },
     "execution_count": 18,
     "metadata": {},
     "output_type": "execute_result"
    }
   ],
   "source": [
    "wordCount = defaultdict(int)\n",
    "punctuation = set(string.punctuation)\n",
    "stemmer = PorterStemmer()\n",
    "sw = stopwords.words(\"English\")\n",
    "for d in dataTrain1:\n",
    "    r = ''.join([c for c in d['review_text'].lower() if not c in punctuation])\n",
    "    for w in r.split():\n",
    "        w = stemmer.stem(w)\n",
    "        wordCount[w] += 1\n",
    "\n",
    "len(wordCount)"
   ]
  },
  {
   "cell_type": "code",
   "execution_count": 21,
   "metadata": {},
   "outputs": [
    {
     "data": {
      "text/plain": [
       "28718"
      ]
     },
     "execution_count": 21,
     "metadata": {},
     "output_type": "execute_result"
    }
   ],
   "source": [
    "counts = [(wordCount[w],w) for w in wordCount if w not in sw]\n",
    "counts.sort()\n",
    "counts.reverse()\n",
    "len(counts)"
   ]
  },
  {
   "cell_type": "code",
   "execution_count": 22,
   "metadata": {},
   "outputs": [],
   "source": [
    "words = [x[1] for x in counts[:5000]]"
   ]
  },
  {
   "cell_type": "code",
   "execution_count": 23,
   "metadata": {},
   "outputs": [],
   "source": [
    "wordId = dict(zip(words, range(len(words))))\n",
    "wordSet = set(words)"
   ]
  },
  {
   "cell_type": "code",
   "execution_count": 43,
   "metadata": {},
   "outputs": [],
   "source": [
    "def feature2(d): \n",
    "    feat = [0]*len(words)\n",
    "    r = ''.join([c for c in d['review_text'].lower() if not c in punctuation])\n",
    "    for w in r.split():\n",
    "        w = stemmer.stem(w)\n",
    "        if w in words:\n",
    "            feat[wordId[w]] += 1\n",
    "    return [1] + [d['weight'], d['height'], d['size']] + feat"
   ]
  },
  {
   "cell_type": "code",
   "execution_count": 46,
   "metadata": {},
   "outputs": [],
   "source": [
    "Xtrain2 = [feature2(d) for d in dataTrain1]"
   ]
  },
  {
   "cell_type": "code",
   "execution_count": 45,
   "metadata": {},
   "outputs": [],
   "source": [
    "Xvalid2 = [feature2(d) for d in dataValid1]"
   ]
  },
  {
   "cell_type": "code",
   "execution_count": 44,
   "metadata": {},
   "outputs": [],
   "source": [
    "Xtest2 = [feature2(d) for d in dataTest1]"
   ]
  },
  {
   "cell_type": "code",
   "execution_count": 47,
   "metadata": {},
   "outputs": [
    {
     "name": "stdout",
     "output_type": "stream",
     "text": [
      "C = 2, validation F_1 score = 0.6664634686055476\n",
      "C = 3, validation F_1 score = 0.7181325149323153\n",
      "C = 4, validation F_1 score = 0.7112772402134859\n",
      "C = 5, validation F_1 score = 0.7365494237291323\n",
      "C = 6, validation F_1 score = 0.744739286918367\n",
      "C = 7, validation F_1 score = 0.7465805835820297\n",
      "C = 8, validation F_1 score = 0.7524408011462002\n",
      "C = 9, validation F_1 score = 0.7529425721156253\n",
      "C = 10, validation F_1 score = 0.7521087239105206\n",
      "C = 11, validation F_1 score = 0.754105886584086\n",
      "C = 12, validation F_1 score = 0.755512629011757\n",
      "C = 13, validation F_1 score = 0.7543200239772953\n",
      "C = 14, validation F_1 score = 0.7547309246326788\n",
      "C = 15, validation F_1 score = 0.7543284529058123\n",
      "C = 16, validation F_1 score = 0.7533132404419972\n",
      "C = 17, validation F_1 score = 0.7530132109086656\n",
      "C = 18, validation F_1 score = 0.7516317844408937\n",
      "C = 19, validation F_1 score = 0.7495138111819362\n",
      "C = 20, validation F_1 score = 0.7481472851197275\n",
      "C = 21, validation F_1 score = 0.7488419032132253\n",
      "C = 22, validation F_1 score = 0.7474380570555925\n",
      "C = 23, validation F_1 score = 0.7467996192746823\n",
      "C = 24, validation F_1 score = 0.748605164925266\n"
     ]
    }
   ],
   "source": [
    "# Track the model which works best on the validation set\n",
    "bestModel = None\n",
    "bestValue = None\n",
    "bestC = None\n",
    "models = dict()\n",
    "f1Valid = dict()\n",
    "f1Train = dict()\n",
    "\n",
    "for c in range(2,25):\n",
    "    model = DecisionTreeClassifier(max_depth=c)\n",
    "    model.fit(Xtrain2, ytrain1)\n",
    "    models[c] = model\n",
    "    predictValid = model.predict(Xvalid2)\n",
    "    f1V = metrics.f1_score(yvalid1, predictValid, average='weighted', zero_division=0)\n",
    "    f1Valid[c] = f1V\n",
    "    predictTrain = model.predict(Xtrain2)\n",
    "    f1T = metrics.f1_score(ytrain1, predictTrain, average='weighted', zero_division=0)\n",
    "    f1Train[c] = f1T\n",
    "    print(\"C = \" + str(c) + \", validation F_1 score = \" + str(f1V))\n",
    "    if bestValue == None or f1V > bestValue:\n",
    "        bestValue = f1V\n",
    "        bestModel = model\n",
    "        bestC = c\n"
   ]
  },
  {
   "cell_type": "code",
   "execution_count": 55,
   "metadata": {},
   "outputs": [
    {
     "data": {
      "text/plain": [
       "(12, 0.755512629011757)"
      ]
     },
     "execution_count": 55,
     "metadata": {},
     "output_type": "execute_result"
    }
   ],
   "source": [
    "bestC, bestValue"
   ]
  },
  {
   "cell_type": "code",
   "execution_count": 49,
   "metadata": {},
   "outputs": [
    {
     "data": {
      "text/plain": [
       "0.760285085531351"
      ]
     },
     "execution_count": 49,
     "metadata": {},
     "output_type": "execute_result"
    }
   ],
   "source": [
    "predictTest = bestModel.predict(Xtest2)\n",
    "f1Test = metrics.f1_score(ytest1, predictTest, average='weighted',zero_division=0)\n",
    "f1Test"
   ]
  },
  {
   "cell_type": "code",
   "execution_count": 74,
   "metadata": {},
   "outputs": [
    {
     "data": {
      "image/png": "[encoded data removed]",
      "text/plain": [
       "<Figure size 432x288 with 1 Axes>"
      ]
     },
     "metadata": {
      "needs_background": "light"
     },
     "output_type": "display_data"
    }
   ],
   "source": [
    "plt.xticks([])\n",
    "plt.xlabel(r\"max_depth\")\n",
    "plt.ylabel(r\"f_1 score\")\n",
    "plt.title(r\"Validation Pipeline\")\n",
    "plt.xscale('linear')\n",
    "plt.plot(range(2,25), list(f1Train.values()), color='k', linestyle='--', label='training f_1 score')\n",
    "plt.plot(range(2,25), list(f1Valid.values()), color='grey',zorder=4,label=\"validation f_1 score\")\n",
    "plt.plot([bestC], [f1Test], linestyle='', marker='x', color='k', label=\"test f_1 score\")\n",
    "plt.legend(loc='best')\n",
    "plt.show()"
   ]
  }
 ],
 "metadata": {
  "kernelspec": {
   "display_name": "Python 3.9.7 ('base')",
   "language": "python",
   "name": "python3"
  },
  "language_info": {
   "codemirror_mode": {
    "name": "ipython",
    "version": 3
   },
   "file_extension": ".py",
   "mimetype": "text/x-python",
   "name": "python",
   "nbconvert_exporter": "python",
   "pygments_lexer": "ipython3",
   "version": "3.9.7"
  },
  "orig_nbformat": 4,
  "vscode": {
   "interpreter": {
    "hash": "40d3a090f54c6569ab1632332b64b2c03c39dcf918b08424e98f38b5ae0af88f"
   }
  }
 },
 "nbformat": 4,
 "nbformat_minor": 2
}
